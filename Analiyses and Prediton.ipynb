{
 "cells": [
  {
   "cell_type": "markdown",
   "metadata": {},
   "source": [
    "# Importing Libraries"
   ]
  },
  {
   "cell_type": "code",
   "execution_count": 59,
   "metadata": {},
   "outputs": [],
   "source": [
    "import numpy as np # linear algebra\n",
    "import pandas as pd # data processing, read csv file.\n",
    "import matplotlib.pyplot as plt # data visualization\n",
    "import seaborn as sns # data visualization"
   ]
  },
  {
   "cell_type": "markdown",
   "metadata": {},
   "source": [
    "### Load dataset to pandas dataframe"
   ]
  },
  {
   "cell_type": "code",
   "execution_count": 60,
   "metadata": {},
   "outputs": [],
   "source": [
    "df = pd.read_csv('HIV_dataset.csv')"
   ]
  },
  {
   "cell_type": "markdown",
   "metadata": {},
   "source": [
    "### View dataframe"
   ]
  },
  {
   "cell_type": "code",
   "execution_count": 61,
   "metadata": {},
   "outputs": [
    {
     "data": {
      "text/html": [
       "<div>\n",
       "<style scoped>\n",
       "    .dataframe tbody tr th:only-of-type {\n",
       "        vertical-align: middle;\n",
       "    }\n",
       "\n",
       "    .dataframe tbody tr th {\n",
       "        vertical-align: top;\n",
       "    }\n",
       "\n",
       "    .dataframe thead th {\n",
       "        text-align: right;\n",
       "    }\n",
       "</style>\n",
       "<table border=\"1\" class=\"dataframe\">\n",
       "  <thead>\n",
       "    <tr style=\"text-align: right;\">\n",
       "      <th></th>\n",
       "      <th>Age</th>\n",
       "      <th>Marital Staus</th>\n",
       "      <th>STD</th>\n",
       "      <th>Educational Background</th>\n",
       "      <th>HIV TEST IN PAST YEAR</th>\n",
       "      <th>AIDS education</th>\n",
       "      <th>Places of seeking sex partners</th>\n",
       "      <th>SEXUAL ORIENTATION</th>\n",
       "      <th>Drug- taking</th>\n",
       "      <th>Result</th>\n",
       "    </tr>\n",
       "  </thead>\n",
       "  <tbody>\n",
       "    <tr>\n",
       "      <th>0</th>\n",
       "      <td>22</td>\n",
       "      <td>UNMARRIED</td>\n",
       "      <td>NO</td>\n",
       "      <td>College Degree</td>\n",
       "      <td>YES</td>\n",
       "      <td>NO</td>\n",
       "      <td>Bar</td>\n",
       "      <td>Heterosexual</td>\n",
       "      <td>YES</td>\n",
       "      <td>POSITIVE</td>\n",
       "    </tr>\n",
       "    <tr>\n",
       "      <th>1</th>\n",
       "      <td>20</td>\n",
       "      <td>UNMARRIED</td>\n",
       "      <td>NO</td>\n",
       "      <td>College Degree</td>\n",
       "      <td>NO</td>\n",
       "      <td>YES</td>\n",
       "      <td>NaN</td>\n",
       "      <td>Heterosexual</td>\n",
       "      <td>NO</td>\n",
       "      <td>NEGATIVE</td>\n",
       "    </tr>\n",
       "    <tr>\n",
       "      <th>2</th>\n",
       "      <td>23</td>\n",
       "      <td>Married</td>\n",
       "      <td>YES</td>\n",
       "      <td>College Degree</td>\n",
       "      <td>NO</td>\n",
       "      <td>YES</td>\n",
       "      <td>NaN</td>\n",
       "      <td>Bisexual</td>\n",
       "      <td>NO</td>\n",
       "      <td>NEGATIVE</td>\n",
       "    </tr>\n",
       "    <tr>\n",
       "      <th>3</th>\n",
       "      <td>24</td>\n",
       "      <td>Married</td>\n",
       "      <td>NO</td>\n",
       "      <td>College Degree</td>\n",
       "      <td>YES</td>\n",
       "      <td>YES</td>\n",
       "      <td>Park</td>\n",
       "      <td>Heterosexual</td>\n",
       "      <td>YES</td>\n",
       "      <td>POSITIVE</td>\n",
       "    </tr>\n",
       "    <tr>\n",
       "      <th>4</th>\n",
       "      <td>18</td>\n",
       "      <td>UNMARRIED</td>\n",
       "      <td>YES</td>\n",
       "      <td>Senior High School</td>\n",
       "      <td>YES</td>\n",
       "      <td>NO</td>\n",
       "      <td>Internet</td>\n",
       "      <td>Heterosexual</td>\n",
       "      <td>YES</td>\n",
       "      <td>POSITIVE</td>\n",
       "    </tr>\n",
       "    <tr>\n",
       "      <th>5</th>\n",
       "      <td>15</td>\n",
       "      <td>UNMARRIED</td>\n",
       "      <td>YES</td>\n",
       "      <td>Junior High School</td>\n",
       "      <td>NO</td>\n",
       "      <td>NO</td>\n",
       "      <td>Public bath</td>\n",
       "      <td>Bisexual</td>\n",
       "      <td>NO</td>\n",
       "      <td>NEGATIVE</td>\n",
       "    </tr>\n",
       "    <tr>\n",
       "      <th>6</th>\n",
       "      <td>15</td>\n",
       "      <td>UNMARRIED</td>\n",
       "      <td>YES</td>\n",
       "      <td>Junior High School</td>\n",
       "      <td>NO</td>\n",
       "      <td>NO</td>\n",
       "      <td>Public Bath</td>\n",
       "      <td>Heterosexual</td>\n",
       "      <td>YES</td>\n",
       "      <td>NEGATIVE</td>\n",
       "    </tr>\n",
       "    <tr>\n",
       "      <th>7</th>\n",
       "      <td>15</td>\n",
       "      <td>UNMARRIED</td>\n",
       "      <td>NO</td>\n",
       "      <td>Junior High School</td>\n",
       "      <td>YES</td>\n",
       "      <td>NO</td>\n",
       "      <td>Public Bath</td>\n",
       "      <td>Bisexual</td>\n",
       "      <td>NO</td>\n",
       "      <td>POSITIVE</td>\n",
       "    </tr>\n",
       "  </tbody>\n",
       "</table>\n",
       "</div>"
      ],
      "text/plain": [
       "   Age Marital Staus  STD Educational Background HIV TEST IN PAST YEAR  \\\n",
       "0   22     UNMARRIED   NO         College Degree                   YES   \n",
       "1   20     UNMARRIED   NO         College Degree                    NO   \n",
       "2   23       Married  YES         College Degree                    NO   \n",
       "3   24       Married   NO         College Degree                   YES   \n",
       "4   18     UNMARRIED  YES     Senior High School                   YES   \n",
       "5   15     UNMARRIED  YES     Junior High School                    NO   \n",
       "6   15     UNMARRIED  YES     Junior High School                    NO   \n",
       "7   15     UNMARRIED   NO     Junior High School                   YES   \n",
       "\n",
       "  AIDS education Places of seeking sex partners SEXUAL ORIENTATION  \\\n",
       "0             NO                            Bar       Heterosexual   \n",
       "1            YES                            NaN       Heterosexual   \n",
       "2            YES                            NaN           Bisexual   \n",
       "3            YES                           Park       Heterosexual   \n",
       "4             NO                       Internet       Heterosexual   \n",
       "5             NO                    Public bath           Bisexual   \n",
       "6             NO                    Public Bath       Heterosexual   \n",
       "7             NO                    Public Bath           Bisexual   \n",
       "\n",
       "  Drug- taking    Result  \n",
       "0          YES  POSITIVE  \n",
       "1           NO  NEGATIVE  \n",
       "2           NO  NEGATIVE  \n",
       "3          YES  POSITIVE  \n",
       "4          YES  POSITIVE  \n",
       "5           NO  NEGATIVE  \n",
       "6          YES  NEGATIVE  \n",
       "7           NO  POSITIVE  "
      ]
     },
     "execution_count": 61,
     "metadata": {},
     "output_type": "execute_result"
    }
   ],
   "source": [
    "df.head(8)"
   ]
  },
  {
   "cell_type": "code",
   "execution_count": 62,
   "metadata": {},
   "outputs": [
    {
     "name": "stdout",
     "output_type": "stream",
     "text": [
      "<class 'pandas.core.frame.DataFrame'>\n",
      "RangeIndex: 698 entries, 0 to 697\n",
      "Data columns (total 10 columns):\n",
      " #   Column                          Non-Null Count  Dtype \n",
      "---  ------                          --------------  ----- \n",
      " 0   Age                             698 non-null    int64 \n",
      " 1   Marital Staus                   698 non-null    object\n",
      " 2   STD                             698 non-null    object\n",
      " 3   Educational Background          698 non-null    object\n",
      " 4   HIV TEST IN PAST YEAR           698 non-null    object\n",
      " 5   AIDS education                  698 non-null    object\n",
      " 6   Places of seeking sex partners  676 non-null    object\n",
      " 7   SEXUAL ORIENTATION              698 non-null    object\n",
      " 8   Drug- taking                    698 non-null    object\n",
      " 9   Result                          698 non-null    object\n",
      "dtypes: int64(1), object(9)\n",
      "memory usage: 54.7+ KB\n"
     ]
    }
   ],
   "source": [
    "df.info()"
   ]
  },
  {
   "cell_type": "code",
   "execution_count": 63,
   "metadata": {},
   "outputs": [
    {
     "data": {
      "text/plain": [
       "Age                                0\n",
       "Marital Staus                      0\n",
       "STD                                0\n",
       "Educational Background             0\n",
       "HIV TEST IN PAST YEAR              0\n",
       "AIDS education                     0\n",
       "Places of seeking sex partners    22\n",
       "SEXUAL ORIENTATION                 0\n",
       "Drug- taking                       0\n",
       "Result                             0\n",
       "dtype: int64"
      ]
     },
     "execution_count": 63,
     "metadata": {},
     "output_type": "execute_result"
    }
   ],
   "source": [
    "# See if there are any missing values in the dataset\n",
    "df.isnull().sum()"
   ]
  },
  {
   "cell_type": "code",
   "execution_count": 64,
   "metadata": {},
   "outputs": [
    {
     "data": {
      "text/html": [
       "<div>\n",
       "<style scoped>\n",
       "    .dataframe tbody tr th:only-of-type {\n",
       "        vertical-align: middle;\n",
       "    }\n",
       "\n",
       "    .dataframe tbody tr th {\n",
       "        vertical-align: top;\n",
       "    }\n",
       "\n",
       "    .dataframe thead th {\n",
       "        text-align: right;\n",
       "    }\n",
       "</style>\n",
       "<table border=\"1\" class=\"dataframe\">\n",
       "  <thead>\n",
       "    <tr style=\"text-align: right;\">\n",
       "      <th></th>\n",
       "      <th>Age</th>\n",
       "      <th>Marital Staus</th>\n",
       "      <th>STD</th>\n",
       "      <th>Educational Background</th>\n",
       "      <th>HIV TEST IN PAST YEAR</th>\n",
       "      <th>AIDS education</th>\n",
       "      <th>Places of seeking sex partners</th>\n",
       "      <th>SEXUAL ORIENTATION</th>\n",
       "      <th>Drug- taking</th>\n",
       "      <th>Result</th>\n",
       "    </tr>\n",
       "  </thead>\n",
       "  <tbody>\n",
       "    <tr>\n",
       "      <th>0</th>\n",
       "      <td>22</td>\n",
       "      <td>UNMARRIED</td>\n",
       "      <td>NO</td>\n",
       "      <td>College Degree</td>\n",
       "      <td>YES</td>\n",
       "      <td>NO</td>\n",
       "      <td>Bar</td>\n",
       "      <td>Heterosexual</td>\n",
       "      <td>YES</td>\n",
       "      <td>POSITIVE</td>\n",
       "    </tr>\n",
       "    <tr>\n",
       "      <th>1</th>\n",
       "      <td>20</td>\n",
       "      <td>UNMARRIED</td>\n",
       "      <td>NO</td>\n",
       "      <td>College Degree</td>\n",
       "      <td>NO</td>\n",
       "      <td>YES</td>\n",
       "      <td>NaN</td>\n",
       "      <td>Heterosexual</td>\n",
       "      <td>NO</td>\n",
       "      <td>NEGATIVE</td>\n",
       "    </tr>\n",
       "    <tr>\n",
       "      <th>2</th>\n",
       "      <td>23</td>\n",
       "      <td>Married</td>\n",
       "      <td>YES</td>\n",
       "      <td>College Degree</td>\n",
       "      <td>NO</td>\n",
       "      <td>YES</td>\n",
       "      <td>NaN</td>\n",
       "      <td>Bisexual</td>\n",
       "      <td>NO</td>\n",
       "      <td>NEGATIVE</td>\n",
       "    </tr>\n",
       "    <tr>\n",
       "      <th>3</th>\n",
       "      <td>24</td>\n",
       "      <td>Married</td>\n",
       "      <td>NO</td>\n",
       "      <td>College Degree</td>\n",
       "      <td>YES</td>\n",
       "      <td>YES</td>\n",
       "      <td>Park</td>\n",
       "      <td>Heterosexual</td>\n",
       "      <td>YES</td>\n",
       "      <td>POSITIVE</td>\n",
       "    </tr>\n",
       "    <tr>\n",
       "      <th>4</th>\n",
       "      <td>18</td>\n",
       "      <td>UNMARRIED</td>\n",
       "      <td>YES</td>\n",
       "      <td>Senior High School</td>\n",
       "      <td>YES</td>\n",
       "      <td>NO</td>\n",
       "      <td>Internet</td>\n",
       "      <td>Heterosexual</td>\n",
       "      <td>YES</td>\n",
       "      <td>POSITIVE</td>\n",
       "    </tr>\n",
       "    <tr>\n",
       "      <th>5</th>\n",
       "      <td>15</td>\n",
       "      <td>UNMARRIED</td>\n",
       "      <td>YES</td>\n",
       "      <td>Junior High School</td>\n",
       "      <td>NO</td>\n",
       "      <td>NO</td>\n",
       "      <td>Public bath</td>\n",
       "      <td>Bisexual</td>\n",
       "      <td>NO</td>\n",
       "      <td>NEGATIVE</td>\n",
       "    </tr>\n",
       "    <tr>\n",
       "      <th>6</th>\n",
       "      <td>15</td>\n",
       "      <td>UNMARRIED</td>\n",
       "      <td>YES</td>\n",
       "      <td>Junior High School</td>\n",
       "      <td>NO</td>\n",
       "      <td>NO</td>\n",
       "      <td>Public Bath</td>\n",
       "      <td>Heterosexual</td>\n",
       "      <td>YES</td>\n",
       "      <td>NEGATIVE</td>\n",
       "    </tr>\n",
       "    <tr>\n",
       "      <th>7</th>\n",
       "      <td>15</td>\n",
       "      <td>UNMARRIED</td>\n",
       "      <td>NO</td>\n",
       "      <td>Junior High School</td>\n",
       "      <td>YES</td>\n",
       "      <td>NO</td>\n",
       "      <td>Public Bath</td>\n",
       "      <td>Bisexual</td>\n",
       "      <td>NO</td>\n",
       "      <td>POSITIVE</td>\n",
       "    </tr>\n",
       "  </tbody>\n",
       "</table>\n",
       "</div>"
      ],
      "text/plain": [
       "   Age Marital Staus  STD Educational Background HIV TEST IN PAST YEAR  \\\n",
       "0   22     UNMARRIED   NO         College Degree                   YES   \n",
       "1   20     UNMARRIED   NO         College Degree                    NO   \n",
       "2   23       Married  YES         College Degree                    NO   \n",
       "3   24       Married   NO         College Degree                   YES   \n",
       "4   18     UNMARRIED  YES     Senior High School                   YES   \n",
       "5   15     UNMARRIED  YES     Junior High School                    NO   \n",
       "6   15     UNMARRIED  YES     Junior High School                    NO   \n",
       "7   15     UNMARRIED   NO     Junior High School                   YES   \n",
       "\n",
       "  AIDS education Places of seeking sex partners SEXUAL ORIENTATION  \\\n",
       "0             NO                            Bar       Heterosexual   \n",
       "1            YES                            NaN       Heterosexual   \n",
       "2            YES                            NaN           Bisexual   \n",
       "3            YES                           Park       Heterosexual   \n",
       "4             NO                       Internet       Heterosexual   \n",
       "5             NO                    Public bath           Bisexual   \n",
       "6             NO                    Public Bath       Heterosexual   \n",
       "7             NO                    Public Bath           Bisexual   \n",
       "\n",
       "  Drug- taking    Result  \n",
       "0          YES  POSITIVE  \n",
       "1           NO  NEGATIVE  \n",
       "2           NO  NEGATIVE  \n",
       "3          YES  POSITIVE  \n",
       "4          YES  POSITIVE  \n",
       "5           NO  NEGATIVE  \n",
       "6          YES  NEGATIVE  \n",
       "7           NO  POSITIVE  "
      ]
     },
     "execution_count": 64,
     "metadata": {},
     "output_type": "execute_result"
    }
   ],
   "source": [
    "df.head(8)"
   ]
  },
  {
   "cell_type": "markdown",
   "metadata": {},
   "source": [
    "# Analyze dataset"
   ]
  },
  {
   "cell_type": "markdown",
   "metadata": {},
   "source": [
    "### Plot result collumm "
   ]
  },
  {
   "cell_type": "code",
   "execution_count": 65,
   "metadata": {},
   "outputs": [],
   "source": [
    "# normalizing the result column\n",
    "\n",
    "def normalize_result(x: str):\n",
    "    if x.lower() == 'positive':\n",
    "        return \"Positive\"\n",
    "    else:\n",
    "        return 'Negative'\n",
    "    \n",
    "df['Result'] = df['Result'].apply(normalize_result)"
   ]
  },
  {
   "cell_type": "code",
   "execution_count": 66,
   "metadata": {},
   "outputs": [
    {
     "data": {
      "image/png": "[encoded data removed]",
      "text/plain": [
       "<Figure size 1000x600 with 1 Axes>"
      ]
     },
     "metadata": {},
     "output_type": "display_data"
    }
   ],
   "source": [
    "plt.figure(figsize=(10, 6))\n",
    "sns.countplot(data=df, x='Result', hue=\"Result\")\n",
    "plt.show()"
   ]
  },
  {
   "cell_type": "markdown",
   "metadata": {},
   "source": [
    "### Plot how STD effect the result"
   ]
  },
  {
   "cell_type": "code",
   "execution_count": 67,
   "metadata": {},
   "outputs": [],
   "source": [
    "# normalizing the STD column\n",
    "\n",
    "def normalize_std(x: str):\n",
    "    if x.lower() == \"yes\":\n",
    "        return \"Yes\"\n",
    "    else:\n",
    "        return \"No\"\n",
    "    \n",
    "df[\"STD\"] = df[\"STD\"].apply(normalize_std)"
   ]
  },
  {
   "cell_type": "code",
   "execution_count": 68,
   "metadata": {},
   "outputs": [
    {
     "data": {
      "image/png": "[encoded data removed]",
      "text/plain": [
       "<Figure size 1000x600 with 1 Axes>"
      ]
     },
     "metadata": {},
     "output_type": "display_data"
    }
   ],
   "source": [
    "plt.figure(figsize=(10, 6))\n",
    "sns.countplot(data=df, x='Result', hue=\"STD\")\n",
    "plt.show()"
   ]
  },
  {
   "cell_type": "markdown",
   "metadata": {},
   "source": [
    "### Plot how Places of seeking sex partners effect HIV"
   ]
  },
  {
   "cell_type": "code",
   "execution_count": 69,
   "metadata": {},
   "outputs": [
    {
     "name": "stderr",
     "output_type": "stream",
     "text": [
      "C:\\Users\\emonr\\AppData\\Local\\Temp\\ipykernel_13652\\2988063103.py:1: FutureWarning: A value is trying to be set on a copy of a DataFrame or Series through chained assignment using an inplace method.\n",
      "The behavior will change in pandas 3.0. This inplace method will never work because the intermediate object on which we are setting values always behaves as a copy.\n",
      "\n",
      "For example, when doing 'df[col].method(value, inplace=True)', try using 'df.method({col: value}, inplace=True)' or df[col] = df[col].method(value) instead, to perform the operation inplace on the original object.\n",
      "\n",
      "\n",
      "  df['Places of seeking sex partners'].replace(pd.NA,'Others',inplace=True)\n"
     ]
    }
   ],
   "source": [
    "df['Places of seeking sex partners'].replace(pd.NA,'Others',inplace=True)"
   ]
  },
  {
   "cell_type": "code",
   "execution_count": 70,
   "metadata": {},
   "outputs": [],
   "source": [
    "def normalize_spe(x: str):\n",
    "    if x.lower() == 'bar':\n",
    "        return 'Bar'\n",
    "    elif x.lower() == 'park':\n",
    "        return 'Park'\n",
    "    elif x.lower() == 'internet':\n",
    "        return 'Internet'\n",
    "    elif x.lower() == 'public bath':   \n",
    "        return 'Public Bath'\n",
    "    else:\n",
    "        return 'Others'\n",
    "    \n",
    "df[\"Places of seeking sex partners\"] = df[\"Places of seeking sex partners\"].apply(normalize_spe)"
   ]
  },
  {
   "cell_type": "code",
   "execution_count": 71,
   "metadata": {},
   "outputs": [
    {
     "data": {
      "image/png": "[encoded data removed]",
      "text/plain": [
       "<Figure size 1000x600 with 1 Axes>"
      ]
     },
     "metadata": {},
     "output_type": "display_data"
    }
   ],
   "source": [
    "plt.figure(figsize=(10, 6))\n",
    "sns.countplot(data=df, x='Result', hue='Places of seeking sex partners')\n",
    "plt.show()"
   ]
  }
 ],
 "metadata": {
  "kernelspec": {
   "display_name": "Python 3",
   "language": "python",
   "name": "python3"
  },
  "language_info": {
   "codemirror_mode": {
    "name": "ipython",
    "version": 3
   },
   "file_extension": ".py",
   "mimetype": "text/x-python",
   "name": "python",
   "nbconvert_exporter": "python",
   "pygments_lexer": "ipython3",
   "version": "3.12.4"
  }
 },
 "nbformat": 4,
 "nbformat_minor": 2
}
